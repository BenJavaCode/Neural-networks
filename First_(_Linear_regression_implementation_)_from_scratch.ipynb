{
  "nbformat": 4,
  "nbformat_minor": 0,
  "metadata": {
    "colab": {
      "name": "First ( Linear regression implementation ) from scratch",
      "provenance": [],
      "authorship_tag": "ABX9TyPs7JZGz1RPPwMp3OvfQGw4",
      "include_colab_link": true
    },
    "kernelspec": {
      "name": "python3",
      "display_name": "Python 3"
    },
    "language_info": {
      "name": "python"
    }
  },
  "cells": [
    {
      "cell_type": "markdown",
      "metadata": {
        "id": "view-in-github",
        "colab_type": "text"
      },
      "source": [
        "<a href=\"https://colab.research.google.com/github/BenJavaCode/Neural-networks/blob/main/First_(_Linear_regression_implementation_)_from_scratch.ipynb\" target=\"_parent\"><img src=\"https://colab.research.google.com/assets/colab-badge.svg\" alt=\"Open In Colab\"/></a>"
      ]
    },
    {
      "cell_type": "markdown",
      "metadata": {
        "id": "ifj4dgJjIsut"
      },
      "source": [
        "# For showing how to implement basic neural network from scratch.\n",
        "# And for showing how the same network is implemented with Pytorch."
      ]
    },
    {
      "cell_type": "code",
      "metadata": {
        "id": "Fcl0-lWLOp3k"
      },
      "source": [
        "%matplotlib inline\n",
        "import random\n",
        "import torch"
      ],
      "execution_count": 202,
      "outputs": []
    },
    {
      "cell_type": "code",
      "metadata": {
        "colab": {
          "base_uri": "https://localhost:8080/",
          "height": 36
        },
        "id": "i5hyM1GAUsrV",
        "outputId": "825c841f-a9d3-4b9c-f47d-b0e04437ebcf"
      },
      "source": [
        "\"\"\"\n",
        "The true parameters generating our dataset will be  w=[2,−3.4]⊤  and  b=4.2 , and our synthetic labels will be assigned according to the following linear model with the noise term  ϵ :\n",
        "y=Xw+b+ϵ.\n",
        "\n",
        "\"\"\""
      ],
      "execution_count": 203,
      "outputs": [
        {
          "output_type": "execute_result",
          "data": {
            "application/vnd.google.colaboratory.intrinsic+json": {
              "type": "string"
            },
            "text/plain": [
              "'\\nThe true parameters generating our dataset will be  w=[2,−3.4]⊤  and  b=4.2 , and our synthetic labels will be assigned according to the following linear model with the noise term  ϵ :\\ny=Xw+b+ϵ.\\n\\n'"
            ]
          },
          "metadata": {
            "tags": []
          },
          "execution_count": 203
        }
      ]
    },
    {
      "cell_type": "code",
      "metadata": {
        "id": "APyApmH9OuLp"
      },
      "source": [
        "def synthetic_data(w, b, num_examples):  \n",
        "    \"\"\"Generate y = Xw + b + noise.\"\"\"\n",
        "    X = torch.normal(0, 1, (num_examples, len(w))) # Mean, std, shape\n",
        "    y = torch.matmul(X, w) + b # Matrix multiplication and ad constant. Xw+b\n",
        "    #y += torch.normal(0, 0.01, y.shape) # ad ϵ.\n",
        "    return X, y.reshape((-1, 1))\n",
        "\n",
        "true_w = torch.tensor([2, -3.4])\n",
        "true_b = 4.2\n",
        "features, labels = synthetic_data(true_w, true_b, 1000)"
      ],
      "execution_count": 204,
      "outputs": []
    },
    {
      "cell_type": "code",
      "metadata": {
        "colab": {
          "base_uri": "https://localhost:8080/"
        },
        "id": "aladdfegRD--",
        "outputId": "9ade44d7-b40e-4742-cff9-42631e784550"
      },
      "source": [
        "print('features:', features[0], '\\nlabel:', labels[0])"
      ],
      "execution_count": 205,
      "outputs": [
        {
          "output_type": "stream",
          "text": [
            "features: tensor([ 0.1380, -0.4015]) \n",
            "label: tensor([5.8410])\n"
          ],
          "name": "stdout"
        }
      ]
    },
    {
      "cell_type": "code",
      "metadata": {
        "id": "6iIexsg7Vw7q"
      },
      "source": [
        "from matplotlib import pyplot as plt"
      ],
      "execution_count": 206,
      "outputs": []
    },
    {
      "cell_type": "code",
      "metadata": {
        "id": "yaHF14uBdA4Q"
      },
      "source": [
        "#By generating a scatter plot using the second feature features[:, 1] and labels, \n",
        "#we can clearly observe the linear correlation between the two.\n",
        "#The reason, the linear relationship is clear, is because, the variable [1] -3.4 has a bigger impact than [0] 2\n",
        "#This is because 3.4 is bigger than 2, and therefore has a bigger impact on matrix mul."
      ],
      "execution_count": 207,
      "outputs": []
    },
    {
      "cell_type": "code",
      "metadata": {
        "colab": {
          "base_uri": "https://localhost:8080/",
          "height": 338
        },
        "id": "6B_Y7sbcVUo-",
        "outputId": "cfc4ba49-0555-4767-b921-b844ccc211fa"
      },
      "source": [
        "plt.figure(figsize=(10, 5))\n",
        "\n",
        "plt.scatter(features[:, 1].detach().numpy(),\n",
        "            labels.detach().numpy(), 2) # x, y, dotsize\n"
      ],
      "execution_count": 208,
      "outputs": [
        {
          "output_type": "execute_result",
          "data": {
            "text/plain": [
              "<matplotlib.collections.PathCollection at 0x7fea6f021550>"
            ]
          },
          "metadata": {
            "tags": []
          },
          "execution_count": 208
        },
        {
          "output_type": "display_data",
          "data": {
            "image/png": "[encoded data removed]",
            "text/plain": [
              "<Figure size 720x360 with 1 Axes>"
            ]
          },
          "metadata": {
            "tags": [],
            "needs_background": "light"
          }
        }
      ]
    },
    {
      "cell_type": "code",
      "metadata": {
        "id": "DDA4FuVad2Ic"
      },
      "source": [
        ""
      ],
      "execution_count": 208,
      "outputs": []
    },
    {
      "cell_type": "code",
      "metadata": {
        "id": "33oVrIejb_a4"
      },
      "source": [
        "# Funtion for iterating through data in batches.\n",
        "# batch_size is size, features is a matrix, labesls is a vector.\n",
        "# yields minibatches of label n features as tuples, of size batch_size\n",
        "\n",
        "def data_iter(batch_size, features, labels):\n",
        "    num_examples = len(features)\n",
        "    indices = list(range(num_examples))\n",
        "\n",
        "    random.shuffle(indices)\n",
        "    for i in range(0, num_examples, batch_size):\n",
        "        batch_indices = torch.tensor(indices[i:min(i + batch_size, num_examples)])\n",
        "        yield features[batch_indices], labels[batch_indices]"
      ],
      "execution_count": 209,
      "outputs": []
    },
    {
      "cell_type": "code",
      "metadata": {
        "id": "WNEOoWvPh_gR"
      },
      "source": [
        "# Initializing parameters\n",
        "w = torch.normal(0, 0.01, size=(2, 1), requires_grad=True) # weights of network is 2,1 because, there is 1 layer with 2 input features\n",
        "b = torch.zeros(1, requires_grad=True) # Bias of 0"
      ],
      "execution_count": 210,
      "outputs": []
    },
    {
      "cell_type": "code",
      "metadata": {
        "id": "dZ4t4QCnow13"
      },
      "source": [
        "# Linear regrassion model\n",
        "def linreg(X, w, b):\n",
        "  return torch.matmul(X,w) + b"
      ],
      "execution_count": 211,
      "outputs": []
    },
    {
      "cell_type": "code",
      "metadata": {
        "id": "skOe-fXR08Jk"
      },
      "source": [
        "# Squared loss function\n",
        "def squared_loss(y_hat, y): # y_hat is the pred, and y is the true label\n",
        "    return (y_hat - y.reshape(y_hat.shape))**2 / 2"
      ],
      "execution_count": 212,
      "outputs": []
    },
    {
      "cell_type": "code",
      "metadata": {
        "id": "4iEBRSQB1hiP"
      },
      "source": [
        "# Minibacth stochastic gradient descent \n",
        "# Updates the parameters, with the gradient of the loss, computed with respect to the parameters\n",
        "\"\"\"\n",
        "The size of the update step is determined by the learning rate lr. \n",
        "Because our loss is calculated as a sum over the minibatch of examples,\n",
        " we normalize our step size by the batch size (batch_size), \n",
        " so that the magnitude of a typical step size does not depend heavily on our choice of the batch size.\n",
        "\"\"\"\n",
        "def sgd(params, lr, batch_size):  \n",
        "    with torch.no_grad():\n",
        "        for param in params:\n",
        "            param -= lr * param.grad / batch_size  # When the gradient of the param is negative, it is moved positively, and vise versa\n",
        "            param.grad.zero_()"
      ],
      "execution_count": 213,
      "outputs": []
    },
    {
      "cell_type": "code",
      "metadata": {
        "colab": {
          "base_uri": "https://localhost:8080/"
        },
        "id": "m0YcHiep5-fU",
        "outputId": "0ac9ac02-28d3-4ba7-8c6c-f4a1e961de4f"
      },
      "source": [
        "lr = 0.03\n",
        "num_epochs = 3\n",
        "net = linreg\n",
        "loss = squared_loss\n",
        "batch_size = 10\n",
        "\n",
        "for epoch in range(num_epochs):\n",
        "    for X, y in data_iter(batch_size, features, labels):\n",
        "        l = loss(net(X, w, b), y)  # Minibatch loss in `X` and `y`\n",
        "        # Compute gradient on `l` with respect to [`w`, `b`]\n",
        "        l.sum().backward()\n",
        "        sgd([w, b], lr, batch_size)  # Update parameters using their gradient\n",
        "    with torch.no_grad(): # Not computing gradients\n",
        "        train_l = loss(net(features, w, b), labels) # Loss on whole d_set for stats\n",
        "        print(f'epoch {epoch + 1}, loss {float(train_l.mean()):f}')"
      ],
      "execution_count": 214,
      "outputs": [
        {
          "output_type": "stream",
          "text": [
            "epoch 1, loss 0.035164\n",
            "epoch 2, loss 0.000076\n",
            "epoch 3, loss 0.000000\n"
          ],
          "name": "stdout"
        }
      ]
    },
    {
      "cell_type": "code",
      "metadata": {
        "colab": {
          "base_uri": "https://localhost:8080/"
        },
        "id": "MctNxBfh771E",
        "outputId": "df15de8d-5c45-4580-9e44-f897685c25df"
      },
      "source": [
        "print(f'error in estimating w: {true_w - w.reshape(true_w.shape)}')\n",
        "print(f'error in estimating b: {true_b - b}')\n"
      ],
      "execution_count": 215,
      "outputs": [
        {
          "output_type": "stream",
          "text": [
            "error in estimating w: tensor([ 0.0002, -0.0002], grad_fn=<SubBackward0>)\n",
            "error in estimating b: tensor([0.0005], grad_fn=<RsubBackward1>)\n"
          ],
          "name": "stdout"
        }
      ]
    },
    {
      "cell_type": "code",
      "metadata": {
        "colab": {
          "base_uri": "https://localhost:8080/"
        },
        "id": "ZHfKk-6t8nfN",
        "outputId": "303afc84-9b60-4aae-b2bc-6518f3b42012"
      },
      "source": [
        "b"
      ],
      "execution_count": 216,
      "outputs": [
        {
          "output_type": "execute_result",
          "data": {
            "text/plain": [
              "tensor([4.1995], requires_grad=True)"
            ]
          },
          "metadata": {
            "tags": []
          },
          "execution_count": 216
        }
      ]
    },
    {
      "cell_type": "markdown",
      "metadata": {
        "id": "ecFstBITB3Z-"
      },
      "source": [
        "# Concise implementation"
      ]
    },
    {
      "cell_type": "code",
      "metadata": {
        "id": "TYQhp7vICKP5"
      },
      "source": [
        "from torch.utils import data"
      ],
      "execution_count": 217,
      "outputs": []
    },
    {
      "cell_type": "code",
      "metadata": {
        "id": "IyxygYa3B6QT"
      },
      "source": [
        "def load_array(data_arrays, batch_size, is_train=True): \n",
        "    \" Data Iterator in pytorch \"\n",
        "    dataset = data.TensorDataset(*data_arrays) # Dataset of the class TensorDataset. Is a Dataset wrapping tensors. params = *Tensors\n",
        "    return data.DataLoader(dataset, batch_size, shuffle=is_train) # An iterator, for iterating a dataset/datasets\n",
        "\n",
        "batch_size = 10\n",
        "data_iter = load_array((features, labels), batch_size)"
      ],
      "execution_count": 218,
      "outputs": []
    },
    {
      "cell_type": "code",
      "metadata": {
        "colab": {
          "base_uri": "https://localhost:8080/"
        },
        "id": "YD2WX27VCDvj",
        "outputId": "bedbc3bf-4374-487e-a5c3-c97753b8c445"
      },
      "source": [
        "next(iter(data_iter))"
      ],
      "execution_count": 219,
      "outputs": [
        {
          "output_type": "execute_result",
          "data": {
            "text/plain": [
              "[tensor([[ 0.7125, -0.6161],\n",
              "         [-0.0552,  0.2314],\n",
              "         [ 0.7635, -0.5829],\n",
              "         [-0.9219, -0.5423],\n",
              "         [ 1.2006, -0.9893],\n",
              "         [ 0.4010, -0.4772],\n",
              "         [ 1.0852,  0.3288],\n",
              "         [-0.4478,  0.8342],\n",
              "         [-0.3435,  0.5182],\n",
              "         [-1.2042,  1.4965]]), tensor([[ 7.7197],\n",
              "         [ 3.3027],\n",
              "         [ 7.7089],\n",
              "         [ 4.2000],\n",
              "         [ 9.9647],\n",
              "         [ 6.6245],\n",
              "         [ 5.2525],\n",
              "         [ 0.4681],\n",
              "         [ 1.7510],\n",
              "         [-3.2964]])]"
            ]
          },
          "metadata": {
            "tags": []
          },
          "execution_count": 219
        }
      ]
    },
    {
      "cell_type": "code",
      "metadata": {
        "id": "IZ1PCSUoDY7M"
      },
      "source": [
        "from torch import nn\n",
        "# Linear reg network\n",
        "net = nn.Sequential(nn.Linear(2, 1))"
      ],
      "execution_count": 220,
      "outputs": []
    },
    {
      "cell_type": "code",
      "metadata": {
        "colab": {
          "base_uri": "https://localhost:8080/"
        },
        "id": "08DHtGD6ESkZ",
        "outputId": "5cab54aa-43b2-4651-eeff-ecd0eb8fc3d8"
      },
      "source": [
        "# Changing weights and bias of first layer in network\n",
        "net[0].weight.data.normal_(0, 0.01)\n",
        "net[0].bias.data.fill_(0)"
      ],
      "execution_count": 221,
      "outputs": [
        {
          "output_type": "execute_result",
          "data": {
            "text/plain": [
              "tensor([0.])"
            ]
          },
          "metadata": {
            "tags": []
          },
          "execution_count": 221
        }
      ]
    },
    {
      "cell_type": "code",
      "metadata": {
        "id": "Kbhk3aU3FBXr"
      },
      "source": [
        "loss = nn.MSELoss() # Mean squared loss, that returns average loss over examples"
      ],
      "execution_count": 222,
      "outputs": []
    },
    {
      "cell_type": "code",
      "metadata": {
        "id": "ycnYSbHzFNSa"
      },
      "source": [
        "trainer = torch.optim.SGD(net.parameters(), lr=0.03) # Minibacth stochastic gradient descent, needs only networks params, and a learning rate."
      ],
      "execution_count": 223,
      "outputs": []
    },
    {
      "cell_type": "code",
      "metadata": {
        "colab": {
          "base_uri": "https://localhost:8080/"
        },
        "id": "3NuBy71uFgYH",
        "outputId": "6b75b593-01b5-4492-d263-e990c0f8cd51"
      },
      "source": [
        "# Training loops are fundamentially, basicly always the same,\n",
        "# GAN networks and adversarial networks are one exception, to this.\n",
        "num_epochs = 3\n",
        "for epoch in range(num_epochs):\n",
        "    for X, y in data_iter:\n",
        "        l = loss(net(X), y)\n",
        "        trainer.zero_grad()\n",
        "        l.backward()\n",
        "        trainer.step()\n",
        "    l = loss(net(features), labels)\n",
        "    print(f'epoch {epoch + 1}, loss {l:f}')"
      ],
      "execution_count": 224,
      "outputs": [
        {
          "output_type": "stream",
          "text": [
            "epoch 1, loss 0.000121\n",
            "epoch 2, loss 0.000000\n",
            "epoch 3, loss 0.000000\n"
          ],
          "name": "stdout"
        }
      ]
    },
    {
      "cell_type": "code",
      "metadata": {
        "colab": {
          "base_uri": "https://localhost:8080/"
        },
        "id": "XINhY_PyGaiH",
        "outputId": "1b89fabd-cf18-4b18-df24-4b86070226fa"
      },
      "source": [
        "w = net[0].weight.data\n",
        "print('error in estimating w:', true_w - w.reshape(true_w.shape))\n",
        "b = net[0].bias.data\n",
        "print('error in estimating b:', true_b - b)"
      ],
      "execution_count": 225,
      "outputs": [
        {
          "output_type": "stream",
          "text": [
            "error in estimating w: tensor([ 2.3842e-07, -2.3842e-07])\n",
            "error in estimating b: tensor([2.8610e-06])\n"
          ],
          "name": "stdout"
        }
      ]
    },
    {
      "cell_type": "code",
      "metadata": {
        "colab": {
          "base_uri": "https://localhost:8080/"
        },
        "id": "LNswRjEAGjRi",
        "outputId": "91d00381-d105-4213-94d9-f6a9d327054b"
      },
      "source": [
        "# acces gradient of layer weigths:\n",
        "net[0].weight.grad"
      ],
      "execution_count": 226,
      "outputs": [
        {
          "output_type": "execute_result",
          "data": {
            "text/plain": [
              "tensor([[-2.8982e-08,  2.9855e-06]])"
            ]
          },
          "metadata": {
            "tags": []
          },
          "execution_count": 226
        }
      ]
    },
    {
      "cell_type": "code",
      "metadata": {
        "id": "IhiP_RgVIpfU"
      },
      "source": [
        ""
      ],
      "execution_count": null,
      "outputs": []
    }
  ]
}